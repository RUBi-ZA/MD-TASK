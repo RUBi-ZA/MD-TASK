{
 "cells": [
  {
   "cell_type": "markdown",
   "id": "precious-canal",
   "metadata": {},
   "source": [
    "# MDM-TASK-web command line tools"
   ]
  },
  {
   "cell_type": "markdown",
   "id": "typical-support",
   "metadata": {},
   "source": [
    "## Quick introduction"
   ]
  },
  {
   "cell_type": "markdown",
   "id": "indian-single",
   "metadata": {},
   "source": [
    "Briefly, the tools are aimed at mining information about protein dynamics. Most tools require a topology file and a molecular dynamics trajectory (but not always). Documentation for the command line tools is obtained uing the \"-h\" flag (e.g. `../calc_correlation.py -h`). \n",
    "\n",
    "This notebook gives a short overview of how the command line tools can be used.\n",
    "\n",
    "<strong>MDM-TASK-web is available <a href=\"https://mdmtaskweb.rubi.ru.ac.za/\">here</a></strong>"
   ]
  },
  {
   "cell_type": "code",
   "execution_count": 44,
   "id": "grave-pocket",
   "metadata": {},
   "outputs": [],
   "source": [
    "import nglview as nv\n",
    "import pandas as pd\n",
    "import matplotlib.pyplot as plt\n",
    "%matplotlib inline"
   ]
  },
  {
   "cell_type": "markdown",
   "id": "civilian-python",
   "metadata": {},
   "source": [
    "## Dynamic Cross Correlation"
   ]
  },
  {
   "cell_type": "markdown",
   "id": "little-response",
   "metadata": {},
   "source": [
    "DCC determines the pairwise correlation of residue motion across an MD trajectory, using C-alpha atoms by default. It is also possible to use one or more atom types (as found in the topology file), via a comma-separated list of atoms (without spaces) to use for DCC calculation. E.g. 'CA,P'. The backbone phosphorus 'P' atom can be a good choice for representing nucleotide residues. In the resulting plot, residue indices are numbered starting from zero."
   ]
  },
  {
   "cell_type": "code",
   "execution_count": 4,
   "id": "ranging-memorial",
   "metadata": {
    "scrolled": true
   },
   "outputs": [
    {
     "name": "stdout",
     "output_type": "stream",
     "text": [
      "INFO::Using Python 3.6.13 | packaged by conda-forge | (default, Feb 19 2021, 05:36:01) \n",
      "[GCC 9.3.0]\n",
      "INFO::Started at: 2021-09-06 22:33:37.295430\n",
      "INFO::Preparing a trajectory matrix...\n",
      "INFO::Correlating...\n",
      "INFO::Plotting heat map...\n",
      "INFO::Completed at: 2021-09-06 22:33:39.444616\n",
      "INFO::- Total time: 0:00:02\n"
     ]
    }
   ],
   "source": [
    "%%bash\n",
    "../calc_correlation.py --step 50 --topology pr1.pdb pr1.xtc"
   ]
  },
  {
   "cell_type": "markdown",
   "id": "departmental-shift",
   "metadata": {},
   "source": [
    "<img src=\"correlation.png\" width=600px>"
   ]
  },
  {
   "cell_type": "markdown",
   "id": "automotive-slope",
   "metadata": {},
   "source": [
    "## Residue Interaction Network analysis"
   ]
  },
  {
   "cell_type": "markdown",
   "id": "human-layer",
   "metadata": {},
   "source": [
    "Network centrality metrics from a residue interaction network (RIN) are calculated from a single conformation (provided in any MDTraj-supported format). Each graph consists of nodes (protein C-beta, or GLY C-alpha atoms) connected by edges (binary: 0, 1) that are assigned using a user-defined cut-off distance for each protein residue pair. The default cut-off distance of 6.7 Angstroms comes from previous work identifying the first of a series of coordination shells using the radial distribution function in a collection of proteins"
   ]
  },
  {
   "cell_type": "code",
   "execution_count": 41,
   "id": "pending-patrick",
   "metadata": {},
   "outputs": [
    {
     "name": "stdout",
     "output_type": "stream",
     "text": [
      "INFO::Started at: 2021-09-06 22:58:45.567571\n",
      "/home/olivier/bin/anaconda/envs/env36/lib/python3.6/site-packages/mdtraj/core/trajectory.py:422: UserWarning: top= kwarg ignored since file contains topology information\n",
      "  warnings.warn('top= kwarg ignored since file contains topology information')\n",
      "INFO::Calculating centralities...\n",
      "INFO::Saved DRN metrics as pr2_*.csv.\n",
      "/home/olivier/bin/anaconda/envs/env36/lib/python3.6/site-packages/Bio/PDB/PDBParser.py:399: PDBConstructionWarning: Ignoring unrecognized record 'END' at line 205\n",
      "  PDBConstructionWarning,\n",
      "INFO::Wrote DRN statistic as B-factor in pr2_mean_BC.cif\n",
      "INFO::Completed at: 2021-09-06 22:58:46.077805\n",
      "INFO::- Total time: 0:00:00\n"
     ]
    },
    {
     "data": {
      "application/vnd.jupyter.widget-view+json": {
       "model_id": "f72b864ef70249fc9892f10286b10078",
       "version_major": 2,
       "version_minor": 0
      },
      "text/plain": [
       "NGLWidget()"
      ]
     },
     "metadata": {},
     "output_type": "display_data"
    }
   ],
   "source": [
    "!../calc_network.py --topology pr2.pdb --calc-BC pr2.pdb\n",
    "v = nv.show_file(\"./pr2_mean_BC.cif\")\n",
    "v.clear_representations()\n",
    "v.add_representation(\"spacefill\", colorScheme=\"bfactor\")\n",
    "v.center()\n",
    "v"
   ]
  },
  {
   "cell_type": "markdown",
   "id": "earlier-detail",
   "metadata": {},
   "source": [
    "## Dynamic Residue Network analysis"
   ]
  },
  {
   "cell_type": "markdown",
   "id": "listed-product",
   "metadata": {},
   "source": [
    "Dynamic Residue Network analysis is calculated from the aggregation of metrics computed from network graphs, which are themselves computed over each frame from a conformational sampling experiment, typically MD. Each graph consists of nodes (protein C-beta, or GLY C-alpha atoms) connected by edges that are assigned using a user-defined cut-off distance for each protein residue pair. The default cut-off distance of 6.7 Angstroms comes from previous work identifying the first of a series of coordination shells using the radial distribution function in a collection of proteins. This value can be changed if desired, for experimentation.\n",
    "For faster uploads we recommend reducing the input trajectory."
   ]
  },
  {
   "cell_type": "code",
   "execution_count": 42,
   "id": "alpine-retreat",
   "metadata": {
    "scrolled": false
   },
   "outputs": [
    {
     "name": "stdout",
     "output_type": "stream",
     "text": [
      "INFO::Started at: 2021-09-06 22:58:50.747488\n",
      "INFO::Calculating centralities...\n",
      "INFO::Saved DRN metrics as pr1_*.csv.\n",
      "/home/olivier/bin/anaconda/envs/env36/lib/python3.6/site-packages/Bio/PDB/PDBParser.py:399: PDBConstructionWarning: Ignoring unrecognized record 'END' at line 205\n",
      "  PDBConstructionWarning,\n",
      "INFO::Wrote DRN statistic as B-factor in pr1_mean_BC.cif\n",
      "INFO::Completed at: 2021-09-06 22:58:54.064638\n",
      "INFO::- Total time: 0:00:03\n"
     ]
    },
    {
     "data": {
      "application/vnd.jupyter.widget-view+json": {
       "model_id": "676914fff4d14dc39bd26ddf99786c69",
       "version_major": 2,
       "version_minor": 0
      },
      "text/plain": [
       "NGLWidget()"
      ]
     },
     "metadata": {},
     "output_type": "display_data"
    }
   ],
   "source": [
    "!../calc_network.py --topology pr1.pdb --step 50 --calc-BC pr1.xtc\n",
    "v = nv.show_file(\"./pr1_mean_BC.cif\")\n",
    "v.clear_representations()\n",
    "v.add_representation(\"spacefill\", colorScheme=\"bfactor\")\n",
    "v.center()\n",
    "v"
   ]
  },
  {
   "cell_type": "markdown",
   "id": "1b45e690",
   "metadata": {},
   "source": [
    "### Custom plotting of DRN results "
   ]
  },
  {
   "cell_type": "code",
   "execution_count": 53,
   "id": "01270d95",
   "metadata": {},
   "outputs": [
    {
     "data": {
      "text/plain": [
       "<matplotlib.axes._subplots.AxesSubplot at 0x7f9a8d875048>"
      ]
     },
     "execution_count": 53,
     "metadata": {},
     "output_type": "execute_result"
    },
    {
     "data": {
      "image/png": "[encoded data removed]",
      "text/plain": [
       "<Figure size 432x288 with 1 Axes>"
      ]
     },
     "metadata": {
      "needs_background": "light"
     },
     "output_type": "display_data"
    }
   ],
   "source": [
    "pd.read_csv(\"./pr2_mean.csv\").BC.plot()"
   ]
  },
  {
   "cell_type": "markdown",
   "id": "banned-sapphire",
   "metadata": {},
   "source": [
    "# Weighted Residue Contact Map"
   ]
  },
  {
   "cell_type": "markdown",
   "id": "limiting-closing",
   "metadata": {},
   "source": [
    "Generate a weighted network graph using contact frequencies obtained at a defined cut-off radius (typically 6.7) around a protein residue of interest. It can be very useful in getting a weighted contact graph at residue locus of high centrality determined from the DRN metrics. The edge weights represent the contact frequencies determined over the course of the trajectory. It can be coupled to the contact heat map tool for large scale comparisons."
   ]
  },
  {
   "cell_type": "code",
   "execution_count": 16,
   "id": "legislative-brazilian",
   "metadata": {
    "collapsed": true
   },
   "outputs": [
    {
     "name": "stdout",
     "output_type": "stream",
     "text": [
      "Started at: 2021-09-06 22:38:47.901531\n",
      "Loading trajectory...\n",
      "Calculating weighted contacts around ASH25 (chain A)...\n",
      "Generating contact map: ASH25_chainA_contact_map.png\n",
      "Writing network to ASH25_pr1.csv...\n",
      "Completed at: 2021-09-06 22:38:48.733532\n",
      "- Total time: 0:00:00\n",
      "Started at: 2021-09-06 22:38:49.395167\n",
      "Loading trajectory...\n",
      "Calculating weighted contacts around ASH25 (chain A)...\n",
      "Generating contact map: ASH25_chainA_contact_map.png\n",
      "Writing network to ASH25_pr2.csv...\n",
      "Completed at: 2021-09-06 22:38:50.232901\n",
      "- Total time: 0:00:00\n",
      "Started at: 2021-09-06 22:38:50.924471\n",
      "Loading trajectory...\n",
      "Calculating weighted contacts around ASH25 (chain A)...\n",
      "Generating contact map: ASH25_chainA_contact_map.png\n",
      "Writing network to ASH25_pr3.csv...\n",
      "Completed at: 2021-09-06 22:38:51.781457\n",
      "- Total time: 0:00:00\n",
      "Started at: 2021-09-06 22:38:52.429806\n",
      "Loading trajectory...\n",
      "Calculating weighted contacts around ASH25 (chain A)...\n",
      "Generating contact map: ASH25_chainA_contact_map.png\n",
      "Writing network to ASH25_pr4.csv...\n",
      "Completed at: 2021-09-06 22:38:53.228999\n",
      "- Total time: 0:00:00\n",
      "Started at: 2021-09-06 22:38:53.904942\n",
      "Loading trajectory...\n",
      "Calculating weighted contacts around ASH25 (chain A)...\n",
      "Generating contact map: ASH25_chainA_contact_map.png\n",
      "Writing network to ASH25_pr5.csv...\n",
      "Completed at: 2021-09-06 22:38:54.772460\n",
      "- Total time: 0:00:00\n",
      "Started at: 2021-09-06 22:38:55.437766\n",
      "Loading trajectory...\n",
      "Calculating weighted contacts around ASH25 (chain A)...\n",
      "Generating contact map: ASH25_chainA_contact_map.png\n",
      "Writing network to ASH25_pr6.csv...\n",
      "Completed at: 2021-09-06 22:38:56.268845\n",
      "- Total time: 0:00:00\n",
      "Started at: 2021-09-06 22:38:56.948509\n",
      "Loading trajectory...\n",
      "Calculating weighted contacts around ASH25 (chain A)...\n",
      "Generating contact map: ASH25_chainA_contact_map.png\n",
      "Writing network to ASH25_pr7.csv...\n",
      "Completed at: 2021-09-06 22:38:57.807172\n",
      "- Total time: 0:00:00\n"
     ]
    },
    {
     "name": "stderr",
     "output_type": "stream",
     "text": [
      "/home/olivier/bin/anaconda/envs/env36/lib/python3.6/site-packages/networkx/drawing/nx_pylab.py:579: MatplotlibDeprecationWarning: \n",
      "The iterable function was deprecated in Matplotlib 3.1 and will be removed in 3.3. Use np.iterable instead.\n",
      "  if not cb.iterable(width):\n",
      "/home/olivier/bin/anaconda/envs/env36/lib/python3.6/site-packages/networkx/drawing/nx_pylab.py:579: MatplotlibDeprecationWarning: \n",
      "The iterable function was deprecated in Matplotlib 3.1 and will be removed in 3.3. Use np.iterable instead.\n",
      "  if not cb.iterable(width):\n",
      "/home/olivier/bin/anaconda/envs/env36/lib/python3.6/site-packages/networkx/drawing/nx_pylab.py:579: MatplotlibDeprecationWarning: \n",
      "The iterable function was deprecated in Matplotlib 3.1 and will be removed in 3.3. Use np.iterable instead.\n",
      "  if not cb.iterable(width):\n",
      "/home/olivier/bin/anaconda/envs/env36/lib/python3.6/site-packages/networkx/drawing/nx_pylab.py:579: MatplotlibDeprecationWarning: \n",
      "The iterable function was deprecated in Matplotlib 3.1 and will be removed in 3.3. Use np.iterable instead.\n",
      "  if not cb.iterable(width):\n",
      "/home/olivier/bin/anaconda/envs/env36/lib/python3.6/site-packages/networkx/drawing/nx_pylab.py:579: MatplotlibDeprecationWarning: \n",
      "The iterable function was deprecated in Matplotlib 3.1 and will be removed in 3.3. Use np.iterable instead.\n",
      "  if not cb.iterable(width):\n",
      "/home/olivier/bin/anaconda/envs/env36/lib/python3.6/site-packages/networkx/drawing/nx_pylab.py:579: MatplotlibDeprecationWarning: \n",
      "The iterable function was deprecated in Matplotlib 3.1 and will be removed in 3.3. Use np.iterable instead.\n",
      "  if not cb.iterable(width):\n",
      "/home/olivier/bin/anaconda/envs/env36/lib/python3.6/site-packages/networkx/drawing/nx_pylab.py:579: MatplotlibDeprecationWarning: \n",
      "The iterable function was deprecated in Matplotlib 3.1 and will be removed in 3.3. Use np.iterable instead.\n",
      "  if not cb.iterable(width):\n"
     ]
    }
   ],
   "source": [
    "%%bash\n",
    "../contact_map.py --topology pr1.pdb --step 10 --residue ASH25 --ocsv ASH25_pr1.csv pr1.xtc\n",
    "../contact_map.py --topology pr2.pdb --step 10 --residue ASH25 --ocsv ASH25_pr2.csv pr2.xtc\n",
    "../contact_map.py --topology pr3.pdb --step 10 --residue ASH25 --ocsv ASH25_pr3.csv pr3.xtc\n",
    "../contact_map.py --topology pr4.pdb --step 10 --residue ASH25 --ocsv ASH25_pr4.csv pr4.xtc\n",
    "../contact_map.py --topology pr5.pdb --step 10 --residue ASH25 --ocsv ASH25_pr5.csv pr5.xtc\n",
    "../contact_map.py --topology pr6.pdb --step 10 --residue ASH25 --ocsv ASH25_pr6.csv pr6.xtc\n",
    "../contact_map.py --topology pr7.pdb --step 10 --residue ASH25 --ocsv ASH25_pr7.csv pr7.xtc"
   ]
  },
  {
   "cell_type": "markdown",
   "id": "spectacular-malpractice",
   "metadata": {},
   "source": [
    "## Weighted Residue Contact Heatmap"
   ]
  },
  {
   "cell_type": "markdown",
   "id": "acknowledged-surname",
   "metadata": {},
   "source": [
    "The contact heatmap aggregates the CSV files obtained from multiple weighted contact network graphs. This enables high-throughput comparison of the local neighborhoods of a given residue position across comparable samples. For example, a given position can be compared in the presence and absence of a drug. The position of interest may not necessarily be the site of a missense mutation, but can be a useful follow-up method to, for example examine the results of degree centrality mapping in greater detail across multiple mutants or various experimental conditions."
   ]
  },
  {
   "cell_type": "code",
   "execution_count": 26,
   "id": "soviet-condition",
   "metadata": {},
   "outputs": [
    {
     "name": "stdout",
     "output_type": "stream",
     "text": [
      "INFO: Started at: 2021-09-06 22:41:31.955597\n",
      "INFO: Wrote contact_heatmap.csv\n",
      "INFO: Completed at: 2021-09-06 22:41:32.593270\n",
      "INFO: - Total time: 0:00:00\n"
     ]
    }
   ],
   "source": [
    "!../contact_heatmap.py --xtickfontsize 8 ASH25_pr*.csv"
   ]
  },
  {
   "cell_type": "markdown",
   "id": "secure-alloy",
   "metadata": {},
   "source": [
    "<img src=\"contact_heatmap.png\" width=\"600px\">"
   ]
  },
  {
   "cell_type": "markdown",
   "id": "useful-singapore",
   "metadata": {},
   "source": [
    "## Perturbation response scanning"
   ]
  },
  {
   "cell_type": "markdown",
   "id": "written-tiger",
   "metadata": {},
   "source": [
    "PRS sequentially applies a set of uniformly distributed forces (Perturbations) to each residue from an initial (reference) conformation before assesing the correlation against a target (final) conformation. The final conformation needs tot be identical to the input topology, but only needs have be homologous residues. For proper representativeness, it is important that the trajectory used for the calculation of the covariance matrix be properly equilibrated."
   ]
  },
  {
   "cell_type": "code",
   "execution_count": 33,
   "id": "obvious-orleans",
   "metadata": {
    "collapsed": true
   },
   "outputs": [
    {
     "name": "stdout",
     "output_type": "stream",
     "text": [
      "INFO::Started at: 2021-09-06 22:47:14.296506\n",
      "INFO::Wrote initial co-ordinate file pr1.xyz\n",
      "INFO::Wrote initial co-ordinate file pr7.xyz\n",
      "INFO::198 CA atoms recorded for the initial structure\n",
      "INFO::198 CA atoms recorded for the final structure\n",
      "INFO::Loading trajectory...\n",
      "INFO::- Total number of frames = 501\n",
      "- Number of residues = 198\n",
      "INFO::- Final trajectory matrix size: (501, 594)\n",
      "INFO::Aligning trajectory frames...\n",
      "INFO::- Calculating average structure...\n",
      "INFO::- Aligning to average structure...\n",
      "INFO::   - 0.00024524098175745737 Angstroms from previous structure\n",
      "INFO::   - 6.640535581806101e-07 Angstroms from previous structure\n",
      "INFO::Calculating difference between frame atoms and average atoms...\n",
      "INFO::- Calculating R_mat\n",
      "INFO::- Transposing\n",
      "INFO::- Calculating corr_mat\n",
      "INFO::Reading initial and final PDB co-ordinates...\n",
      "INFO::Calculating experimental difference between initial and final co-ordinates...\n",
      "INFO::Implementing perturbations sequentially...\n",
      "INFO::Calculating Pearson's correlations coefficient...\n",
      "INFO::Completed at: 2021-09-06 22:47:17.783156\n",
      "INFO::- Total time: 0:00:03\n"
     ]
    }
   ],
   "source": [
    "!../prs.py --topology pr1.pdb --perturbations 10 --step 1 --final pr7.pdb pr1.xtc "
   ]
  },
  {
   "cell_type": "markdown",
   "id": "compact-disability",
   "metadata": {},
   "source": [
    "### Custom plotting of PRS correlation data"
   ]
  },
  {
   "cell_type": "code",
   "execution_count": 39,
   "id": "eleven-colors",
   "metadata": {},
   "outputs": [
    {
     "data": {
      "text/plain": [
       "<matplotlib.axes._subplots.AxesSubplot at 0x7f9a8d79f198>"
      ]
     },
     "execution_count": 39,
     "metadata": {},
     "output_type": "execute_result"
    },
    {
     "data": {
      "image/png": "[encoded data removed]",
      "text/plain": [
       "<Figure size 432x288 with 1 Axes>"
      ]
     },
     "metadata": {
      "needs_background": "light"
     },
     "output_type": "display_data"
    }
   ],
   "source": [
    "pd.read_csv(\"result.csv\").plot()"
   ]
  }
 ],
 "metadata": {
  "kernelspec": {
   "display_name": "Python [conda env:env36]",
   "language": "python",
   "name": "conda-env-env36-py"
  },
  "language_info": {
   "codemirror_mode": {
    "name": "ipython",
    "version": 3
   },
   "file_extension": ".py",
   "mimetype": "text/x-python",
   "name": "python",
   "nbconvert_exporter": "python",
   "pygments_lexer": "ipython3",
   "version": "3.6.13"
  },
  "toc": {
   "base_numbering": 1,
   "nav_menu": {},
   "number_sections": true,
   "sideBar": true,
   "skip_h1_title": false,
   "title_cell": "Table of Contents",
   "title_sidebar": "Contents",
   "toc_cell": false,
   "toc_position": {
    "height": "calc(100% - 180px)",
    "left": "10px",
    "top": "150px",
    "width": "182.667px"
   },
   "toc_section_display": true,
   "toc_window_display": false
  }
 },
 "nbformat": 4,
 "nbformat_minor": 5
}
