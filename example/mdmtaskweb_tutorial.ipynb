{
 "cells": [
  {
   "cell_type": "markdown",
   "id": "standing-perth",
   "metadata": {},
   "source": [
    "# MDM-TASK-web command line tools"
   ]
  },
  {
   "cell_type": "markdown",
   "id": "civilian-active",
   "metadata": {},
   "source": [
    "## Quick introduction"
   ]
  },
  {
   "cell_type": "markdown",
   "id": "comfortable-protein",
   "metadata": {},
   "source": [
    "The tools mine information about protein dynamics. Most tools require a topology file and a molecular dynamics trajectory (but not always). Documentation for the command line tools is obtained likewise:\n",
    "\n",
    "`../calc_correlation.py -h`. \n",
    "\n",
    "This notebook gives a short overview of how the command line tools can be used. The <strong>MDM-TASK-web</strong> is available <a href=\"https://mdmtaskweb.rubi.ru.ac.za/\">here</a>"
   ]
  },
  {
   "cell_type": "code",
   "execution_count": null,
   "id": "soviet-aquatic",
   "metadata": {},
   "outputs": [],
   "source": [
    "import nglview as nv\n",
    "import pandas as pd\n",
    "import matplotlib.pyplot as plt\n",
    "from IPython.display import Image\n",
    "%matplotlib inline"
   ]
  },
  {
   "cell_type": "markdown",
   "id": "civilian-python",
   "metadata": {},
   "source": [
    "## Dynamic Cross Correlation"
   ]
  },
  {
   "cell_type": "markdown",
   "id": "little-response",
   "metadata": {},
   "source": [
    "DCC determines the pairwise correlation of residue motion across an MD trajectory, using C-alpha atoms by default. It is also possible to use one or more atom types (as found in the topology file), via a comma-separated list of atoms (without spaces) to use for DCC calculation. E.g. 'CA,P'. The backbone phosphorus 'P' atom can be a good choice for representing nucleotide residues. In the resulting plot, residue indices are numbered starting from zero."
   ]
  },
  {
   "cell_type": "code",
   "execution_count": null,
   "id": "ranging-memorial",
   "metadata": {
    "scrolled": true
   },
   "outputs": [],
   "source": [
    "!../calc_correlation.py --step 50 --topology pr1.pdb pr1.xtc\n",
    "Image(\"correlation.png\")"
   ]
  },
  {
   "cell_type": "markdown",
   "id": "automotive-slope",
   "metadata": {},
   "source": [
    "## Residue Interaction Network analysis"
   ]
  },
  {
   "cell_type": "markdown",
   "id": "human-layer",
   "metadata": {},
   "source": [
    "Network centrality metrics from a residue interaction network (RIN) are calculated from a single conformation (provided in any MDTraj-supported format). Each graph consists of nodes (protein C-beta, or GLY C-alpha atoms) connected by edges (binary: 0, 1) that are assigned using a user-defined cut-off distance for each protein residue pair. The default cut-off distance of 6.7 Angstroms comes from previous work identifying the first of a series of coordination shells using the radial distribution function in a collection of proteins"
   ]
  },
  {
   "cell_type": "code",
   "execution_count": null,
   "id": "pending-patrick",
   "metadata": {},
   "outputs": [],
   "source": [
    "!../calc_network.py --topology pr2.pdb --calc-BC pr2.pdb\n",
    "v = nv.show_file(\"./pr2_mean_BC.cif\")\n",
    "v.clear_representations()\n",
    "v.add_representation(\"spacefill\", colorScheme=\"bfactor\")\n",
    "v.center()\n",
    "v"
   ]
  },
  {
   "cell_type": "markdown",
   "id": "earlier-detail",
   "metadata": {},
   "source": [
    "## Dynamic Residue Network analysis"
   ]
  },
  {
   "cell_type": "markdown",
   "id": "listed-product",
   "metadata": {},
   "source": [
    "Dynamic Residue Network analysis is calculated from the aggregation of metrics computed from network graphs, which are themselves computed over each frame from a conformational sampling experiment, typically MD. Each graph consists of nodes (protein C-beta, or GLY C-alpha atoms) connected by edges that are assigned using a user-defined cut-off distance for each protein residue pair. The default cut-off distance of 6.7 Angstroms comes from previous work identifying the first of a series of coordination shells using the radial distribution function in a collection of proteins. This value can be changed if desired, for experimentation.\n",
    "For faster uploads we recommend reducing the input trajectory."
   ]
  },
  {
   "cell_type": "code",
   "execution_count": null,
   "id": "alpine-retreat",
   "metadata": {},
   "outputs": [],
   "source": [
    "!../calc_network.py --topology pr1.pdb --step 50 --calc-BC pr1.xtc\n",
    "v = nv.show_file(\"./pr1_mean_BC.cif\")\n",
    "v.clear_representations()\n",
    "v.add_representation(\"spacefill\", colorScheme=\"bfactor\")\n",
    "v.center()\n",
    "v"
   ]
  },
  {
   "cell_type": "markdown",
   "id": "1b45e690",
   "metadata": {},
   "source": [
    "### Custom plotting of DRN results "
   ]
  },
  {
   "cell_type": "code",
   "execution_count": null,
   "id": "lined-formula",
   "metadata": {},
   "outputs": [],
   "source": [
    "print(pd.read_csv(\"./pr2_mean.csv\").head())"
   ]
  },
  {
   "cell_type": "code",
   "execution_count": null,
   "id": "01270d95",
   "metadata": {},
   "outputs": [],
   "source": [
    "b = pd.read_csv(\"./pr2_mean.csv\")\n",
    "b.BC.plot()"
   ]
  },
  {
   "cell_type": "markdown",
   "id": "banned-sapphire",
   "metadata": {},
   "source": [
    "# Weighted Residue Contact Map"
   ]
  },
  {
   "cell_type": "markdown",
   "id": "limiting-closing",
   "metadata": {},
   "source": [
    "Generate a weighted network graph using contact frequencies obtained at a defined cut-off radius (typically 6.7) around a protein residue of interest. It can be very useful in getting a weighted contact graph at residue locus of high centrality determined from the DRN metrics. The edge weights represent the contact frequencies determined over the course of the trajectory. It can be coupled to the contact heat map tool for large scale comparisons."
   ]
  },
  {
   "cell_type": "code",
   "execution_count": null,
   "id": "absent-drinking",
   "metadata": {},
   "outputs": [],
   "source": [
    "!../contact_map.py --topology pr1.pdb --step 10 --residue ASH25 --ocsv ASH25_pr1.csv pr1.xtc\n",
    "Image(\"ASH25_chainA_contact_map.png\")"
   ]
  },
  {
   "cell_type": "code",
   "execution_count": null,
   "id": "legislative-brazilian",
   "metadata": {},
   "outputs": [],
   "source": [
    "%%bash\n",
    "../contact_map.py --topology pr2.pdb --step 10 --residue ASH25 --ocsv ASH25_pr2.csv pr2.xtc\n",
    "../contact_map.py --topology pr3.pdb --step 10 --residue ASH25 --ocsv ASH25_pr3.csv pr3.xtc\n",
    "../contact_map.py --topology pr4.pdb --step 10 --residue ASH25 --ocsv ASH25_pr4.csv pr4.xtc\n",
    "../contact_map.py --topology pr5.pdb --step 10 --residue ASH25 --ocsv ASH25_pr5.csv pr5.xtc\n",
    "../contact_map.py --topology pr6.pdb --step 10 --residue ASH25 --ocsv ASH25_pr6.csv pr6.xtc\n",
    "../contact_map.py --topology pr7.pdb --step 10 --residue ASH25 --ocsv ASH25_pr7.csv pr7.xtc"
   ]
  },
  {
   "cell_type": "markdown",
   "id": "enormous-edgar",
   "metadata": {},
   "source": [
    "## Weighted Residue Contact Heatmap"
   ]
  },
  {
   "cell_type": "markdown",
   "id": "given-frontier",
   "metadata": {},
   "source": [
    "The contact heatmap aggregates the CSV files obtained from multiple weighted contact network graphs. This enables high-throughput comparison of the local neighborhoods of a given residue position across comparable samples. For example, a given position can be compared in the presence and absence of a drug. The position of interest may not necessarily be the site of a missense mutation, but can be a useful follow-up method to, for example examine the results of degree centrality mapping in greater detail across multiple mutants or various experimental conditions."
   ]
  },
  {
   "cell_type": "code",
   "execution_count": null,
   "id": "soviet-condition",
   "metadata": {},
   "outputs": [],
   "source": [
    "!../contact_heatmap.py --annotate --xtickfontsize 8 ASH25_pr*.csv\n",
    "Image(\"contact_heatmap.png\")"
   ]
  },
  {
   "cell_type": "markdown",
   "id": "useful-singapore",
   "metadata": {},
   "source": [
    "## Perturbation response scanning"
   ]
  },
  {
   "cell_type": "markdown",
   "id": "written-tiger",
   "metadata": {},
   "source": [
    "PRS sequentially applies a set of uniformly distributed forces (Perturbations) to each residue from an initial (reference) conformation before assesing the correlation against a target (final) conformation. The final conformation needs tot be identical to the input topology, but only needs have be homologous residues. For proper representativeness, it is important that the trajectory used for the calculation of the covariance matrix be properly equilibrated."
   ]
  },
  {
   "cell_type": "markdown",
   "id": "preliminary-information",
   "metadata": {},
   "source": [
    "### Getting the target conformation"
   ]
  },
  {
   "cell_type": "markdown",
   "id": "dietary-jewelry",
   "metadata": {},
   "source": [
    "Let's download an opened conformation HIV protease structure as our <strong>target conformation</strong> from the PDB"
   ]
  },
  {
   "cell_type": "code",
   "execution_count": null,
   "id": "completed-expansion",
   "metadata": {},
   "outputs": [],
   "source": [
    "!wget https://files.rcsb.org/download/1TW7.pdb"
   ]
  },
  {
   "cell_type": "code",
   "execution_count": null,
   "id": "periodic-timeline",
   "metadata": {},
   "outputs": [],
   "source": [
    "nv.show_file('1TW7.pdb')"
   ]
  },
  {
   "cell_type": "markdown",
   "id": "subsequent-catering",
   "metadata": {},
   "source": [
    "### Our initial conformation/ topology"
   ]
  },
  {
   "cell_type": "code",
   "execution_count": null,
   "id": "helpful-macedonia",
   "metadata": {},
   "outputs": [],
   "source": [
    "nv.show_file('pr1.pdb')"
   ]
  },
  {
   "cell_type": "code",
   "execution_count": null,
   "id": "optical-creature",
   "metadata": {},
   "outputs": [],
   "source": [
    "!../prs.py --topology pr1.pdb --perturbations 30 --step 1 --final 1TW7.pdb pr1.xtc "
   ]
  },
  {
   "cell_type": "markdown",
   "id": "novel-unemployment",
   "metadata": {},
   "source": [
    "### Custom plotting of PRS correlation data"
   ]
  },
  {
   "cell_type": "code",
   "execution_count": null,
   "id": "victorian-offer",
   "metadata": {},
   "outputs": [],
   "source": [
    "pd.read_csv(\"result.csv\").plot()"
   ]
  },
  {
   "cell_type": "code",
   "execution_count": null,
   "id": "valid-output",
   "metadata": {},
   "outputs": [],
   "source": []
  }
 ],
 "metadata": {
  "kernelspec": {
   "display_name": "Python 3",
   "language": "python",
   "name": "python3"
  },
  "language_info": {
   "codemirror_mode": {
    "name": "ipython",
    "version": 3
   },
   "file_extension": ".py",
   "mimetype": "text/x-python",
   "name": "python",
   "nbconvert_exporter": "python",
   "pygments_lexer": "ipython3",
   "version": "3.8.8"
  },
  "toc": {
   "base_numbering": 1,
   "nav_menu": {},
   "number_sections": true,
   "sideBar": true,
   "skip_h1_title": false,
   "title_cell": "Table of Contents",
   "title_sidebar": "Contents",
   "toc_cell": false,
   "toc_position": {
    "height": "calc(100% - 180px)",
    "left": "10px",
    "top": "150px",
    "width": "182.667px"
   },
   "toc_section_display": true,
   "toc_window_display": true
  }
 },
 "nbformat": 4,
 "nbformat_minor": 5
}
